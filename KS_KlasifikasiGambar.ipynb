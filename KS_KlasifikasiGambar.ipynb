{
  "nbformat": 4,
  "nbformat_minor": 0,
  "metadata": {
    "colab": {
      "provenance": [],
      "toc_visible": true,
      "include_colab_link": true
    },
    "kernelspec": {
      "name": "python3",
      "display_name": "Python 3"
    },
    "language_info": {
      "name": "python"
    }
  },
  "cells": [
    {
      "cell_type": "markdown",
      "metadata": {
        "id": "view-in-github",
        "colab_type": "text"
      },
      "source": [
        "<a href=\"https://colab.research.google.com/github/kayisshal/Dicoding-Course/blob/machine-learning-pemula/KS_KlasifikasiGambar.ipynb\" target=\"_parent\"><img src=\"https://colab.research.google.com/assets/colab-badge.svg\" alt=\"Open In Colab\"/></a>"
      ]
    },
    {
      "cell_type": "markdown",
      "source": [
        "# Proyek Akhir : Klasifikasi Gambar\n",
        "Program untuk mengenali bentuk tangan yang membentuk gunting, batu, atau kertas."
      ],
      "metadata": {
        "id": "uSMaMk-yqoft"
      }
    },
    {
      "cell_type": "markdown",
      "source": [
        "### Identitas diri  \n",
        "    nama : Kayis Shalahuddin\n",
        "    username : kayisshal\n",
        "    email : kayissholahuddin2@gmail.com\n"
      ],
      "metadata": {
        "id": "xNzJIcsWr6UQ"
      }
    },
    {
      "cell_type": "markdown",
      "source": [
        "## Import tensorflow"
      ],
      "metadata": {
        "id": "GldhlodooxPF"
      }
    },
    {
      "cell_type": "code",
      "source": [
        "import tensorflow as tf\n",
        "from tensorflow.keras.optimizers import RMSprop\n",
        "from tensorflow.keras.preprocessing.image import ImageDataGenerator\n",
        "from sklearn.model_selection import train_test_split\n",
        "import os"
      ],
      "metadata": {
        "id": "7wz48HTeqXlb"
      },
      "execution_count": null,
      "outputs": []
    },
    {
      "cell_type": "markdown",
      "source": [
        "## Download dataset\n"
      ],
      "metadata": {
        "id": "KxkPLM6bqYe-"
      }
    },
    {
      "cell_type": "code",
      "source": [],
      "metadata": {
        "id": "woCCaeqntUaP"
      },
      "execution_count": null,
      "outputs": []
    }
  ]
}